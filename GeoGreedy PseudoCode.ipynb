{
 "cells": [
  {
   "cell_type": "code",
   "execution_count": 1,
   "metadata": {
    "collapsed": true
   },
   "outputs": [],
   "source": [
    "%matplotlib inline\n",
    "%precision 16\n",
    "from __future__ import print_function\n",
    "import numpy as np\n",
    "import matplotlib.pyplot as plt\n",
    "from scipy.optimize import linprog\n",
    "import timeit"
   ]
  },
  {
   "cell_type": "code",
   "execution_count": 2,
   "metadata": {},
   "outputs": [
    {
     "ename": "IndentationError",
     "evalue": "expected an indented block (<ipython-input-2-302b98f856dc>, line 11)",
     "output_type": "error",
     "traceback": [
      "\u001b[0;36m  File \u001b[0;32m\"<ipython-input-2-302b98f856dc>\"\u001b[0;36m, line \u001b[0;32m11\u001b[0m\n\u001b[0;31m    def GeoGreedy(D, k):\u001b[0m\n\u001b[0m      ^\u001b[0m\n\u001b[0;31mIndentationError\u001b[0m\u001b[0;31m:\u001b[0m expected an indented block\n"
     ]
    }
   ],
   "source": [
    "# compute minimum critical ratio of subset S from database D (PseudoCode)\n",
    "\n",
    "def critical_ratio(S, p):\n",
    "    # first interation\n",
    "    # construct Conv(S) (scipy.spatial)\n",
    "    \n",
    "    # perform ray-shooting query to find the first hyperplane of conv_S intersected by ray p\n",
    "    \n",
    "    # return critical ratio of point p with regard to S \n",
    "    \n",
    "def GeoGreedy(D, k):\n",
    "    # normalize all data \n",
    "    \n",
    "    # Step 1: \n",
    "    # preprocess data and get all non-subjugated points \n",
    "    # Initialize S as the points with maximum value in each dimension\n",
    "    \n",
    "    # Step 2:\n",
    "    # Add remaining k-d points using ray-shooting and efficient indexing\n",
    "        # *first iteration*: \n",
    "        # loop through all P in D\\S and find minimum cr(p, S) \n",
    "        # for each point P, create a map such that h(P) stores the face of Conv(S) crossed by ray P\n",
    "        # record P_min as the point with minimum cr(P_min, S), and ray P_min crosses face h(P_min) of Conv(S)\n",
    "        # add P_min to output set S\n",
    "        \n",
    "        # *following iterations*:\n",
    "        # update Conv(S) to include P_min (only faces including P_min would change)\n",
    "        # for all points in last iteration that crossed face(P_min), update critical ratio\n",
    "        # repeat iterations until output size reaches k (or if cr >= 1, return)\n",
    "    \n",
    "    # return output set S "
   ]
  }
 ],
 "metadata": {
  "kernelspec": {
   "display_name": "Python 3",
   "language": "python",
   "name": "python3"
  },
  "language_info": {
   "codemirror_mode": {
    "name": "ipython",
    "version": 3
   },
   "file_extension": ".py",
   "mimetype": "text/x-python",
   "name": "python",
   "nbconvert_exporter": "python",
   "pygments_lexer": "ipython3",
   "version": "3.6.1"
  }
 },
 "nbformat": 4,
 "nbformat_minor": 2
}
