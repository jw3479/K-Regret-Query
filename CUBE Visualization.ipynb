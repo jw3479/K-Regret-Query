{
 "cells": [
  {
   "cell_type": "code",
   "execution_count": 1,
   "metadata": {
    "collapsed": true
   },
   "outputs": [],
   "source": [
    "%matplotlib inline\n",
    "%precision 16\n",
    "from __future__ import print_function\n",
    "import numpy as np\n",
    "import matplotlib.pyplot as plt\n",
    "from scipy.optimize import linprog\n",
    "import timeit"
   ]
  },
  {
   "cell_type": "code",
   "execution_count": 2,
   "metadata": {
    "collapsed": true
   },
   "outputs": [],
   "source": [
    "# Implement CUBE Algorithm\n",
    "# Input: data array = {p1,p2,... pn}; k: ouput size\n",
    "# Output: subset S of size k\n",
    "def CUBE(data, k):\n",
    "    \"\"\"\n",
    "    :Input:\n",
    "     - *data* (numpy.ndarray) Our data, which is a set of d-dimensional points {p1,p2,...,pn}\n",
    "     - *k* (int) The desired output size\n",
    "    :Output:\n",
    "     - *result_set* (numpy.ndarray) A subset of data of size k\n",
    "    \"\"\"\n",
    "    \n",
    "    # map a d-tuple (each dimension 0, ... , t-1) to index, like d digit of base t\n",
    "    def tuple_2_index(tupl,t): \n",
    "        result = 0\n",
    "        d = len(tupl)\n",
    "        for i in range(d):\n",
    "            result += tupl[i] * t ** (d-1-i)\n",
    "        return int(result)\n",
    "    \n",
    "    # init parameters\n",
    "    n = data.shape[0]\n",
    "    d = data.shape[1] # dimension \n",
    "    t = np.floor((k - d + 1)**(1 /(d - 1))) # num of buckets in each dimension\n",
    "    t = int(t)\n",
    "    \n",
    "    S = np.array([]) # contain indices of selected points\n",
    "    max_index = np.argmax(data, axis=0)\n",
    "    max_val = np.amax(data, axis=0) \n",
    "    \n",
    "    # Step 1: add max point in first d-1 dimensions\n",
    "    for i in range(d - 1): # process first p-1 dimensions\n",
    "        # find point reaching max in each coordinate\n",
    "        S = np.append(S,max_index[i]) \n",
    "    S = np.unique(S) # eliminate duplicate points\n",
    "    \n",
    "    # Step 2: bucket division\n",
    "    # assign d-simensional index to each point according to bucket\n",
    "    index = np.empty([n,d-1]) # for each point, the bucket is represented by a d-tuple\n",
    "    \n",
    "    # assign index to each point\n",
    "    for i in range(n):\n",
    "        for dim in range(d-1):\n",
    "            c_d = max_val[dim]\n",
    "            index[i,dim] = int(np.ceil(data[i,dim] / (c_d / t)) - 1)\n",
    "            \n",
    "    # create mapping from d-tuple (bucket) to array of indices (points inside)\n",
    "    num_of_buckets = t ** (d-1)\n",
    "    \n",
    "    # tuple_2_indices contain all mapping from index of bucket to indices of points\n",
    "    tuple_2_indices = [] # mapping: each row -- tuple, index_arr\n",
    "    for bucket_index in range(num_of_buckets):\n",
    "        tuple_2_indices.append([bucket_index,[]]) # init each bucket to empty array\n",
    "    \n",
    "    for i in range(n):\n",
    "        bucket_index = tuple_2_index(index[i], t)\n",
    "        #print(\"point %s in bucket %s\" %(i,bucket_index))\n",
    "        tuple_2_indices[bucket_index][1].append(i) \n",
    "    \n",
    "    for bucket_index in range(num_of_buckets):\n",
    "        d_max = 0\n",
    "        max_index = -1\n",
    "        # loop through all points in bucket, take max in dimension d\n",
    "        for i in tuple_2_indices[bucket_index][1]: \n",
    "            if data[i][d-1] >= d_max:\n",
    "                d_max = data[i][d-1]\n",
    "                max_index = i\n",
    "        if max_index >= 0: # went through loop, bucket not empty\n",
    "            S = np.append(S,max_index)\n",
    "            S = np.unique(S)\n",
    "    S = S.astype(int)\n",
    "    \n",
    "    result_set = np.empty([S.shape[0],d])\n",
    "    for i, index in enumerate(S):\n",
    "        result_set[i] = data[index]\n",
    "    return result_set"
   ]
  },
  {
   "cell_type": "code",
   "execution_count": 3,
   "metadata": {},
   "outputs": [
    {
     "name": "stdout",
     "output_type": "stream",
     "text": [
      "(50, 2)\n"
     ]
    }
   ],
   "source": [
    "# Process Input: data stored in array data\n",
    "data = np.genfromtxt('Pokemon.csv',delimiter=\",\")\n",
    "data = np.delete(data, 0, 1)\n",
    "data_6D = np.delete(data, 0, 1)\n",
    "data_5D = np.delete(data_6D, 0, 1)\n",
    "data_4D = np.delete(data_5D, 0, 1)\n",
    "data_3D = np.delete(data_4D, 0, 1)\n",
    "data_2D = np.delete(data_3D, 0, 1)\n",
    "max_index = np.argmax(data, axis=0)\n",
    "max_val = np.amax(data, axis=0) \n",
    "test_data = data_2D[0:50,:]\n",
    "print(test_data.shape)"
   ]
  },
  {
   "cell_type": "code",
   "execution_count": 9,
   "metadata": {},
   "outputs": [
    {
     "data": {
      "image/png": "[encoded data removed]",
      "text/plain": [
       "<matplotlib.figure.Figure at 0x11b141710>"
      ]
     },
     "metadata": {},
     "output_type": "display_data"
    }
   ],
   "source": [
    "# 100\n",
    "fig = plt.figure()\n",
    "axes = fig.add_subplot(1, 1, 1)\n",
    "S = CUBE(test_data, 10)\n",
    "\n",
    "# plot\n",
    "axes.plot(test_data[:,0], test_data[:,1], 'ko')\n",
    "axes.plot(S[:,0], S[:,1], 'ro')\n",
    "axes.set_title(\"CUBE Visualizationin 2D (100)\")\n",
    "axes.set_xlabel(\"x\")\n",
    "axes.set_ylabel(\"y\")\n",
    "plt.show()"
   ]
  }
 ],
 "metadata": {
  "kernelspec": {
   "display_name": "Python 3",
   "language": "python",
   "name": "python3"
  },
  "language_info": {
   "codemirror_mode": {
    "name": "ipython",
    "version": 3
   },
   "file_extension": ".py",
   "mimetype": "text/x-python",
   "name": "python",
   "nbconvert_exporter": "python",
   "pygments_lexer": "ipython3",
   "version": "3.6.1"
  }
 },
 "nbformat": 4,
 "nbformat_minor": 2
}
